{
 "cells": [
  {
   "cell_type": "markdown",
   "metadata": {},
   "source": [
    "<img src=\"trump.png\">"
   ]
  },
  {
   "cell_type": "code",
   "execution_count": null,
   "metadata": {},
   "outputs": [],
   "source": [
    "! pip install pandas\n",
    "! pip install -U scikit-learn"
   ]
  },
  {
   "cell_type": "code",
   "execution_count": 1,
   "metadata": {},
   "outputs": [],
   "source": [
    "import pandas as pd\n",
    "import sklearn.feature_extraction.text as text\n",
    "import sklearn.linear_model as linear_model"
   ]
  },
  {
   "cell_type": "code",
   "execution_count": 2,
   "metadata": {},
   "outputs": [],
   "source": [
    "## Helper functions\n",
    "def clean_data(data):\n",
    "    data['created_at']=pd.to_datetime(data['created_at'])\n",
    "    data_sub=data.query(\"source=='Twitter for Android' or source=='Twitter for iPhone'\")\n",
    "    return data_sub\n",
    "def train_test(data):\n",
    "    test=data.query(\"created_at>'2016-11-08'\")\n",
    "    train=data.query(\"created_at<='2016-11-08'\")\n",
    "    y_train=train['source']\n",
    "    y_test=test['source']\n",
    "    y_train=y_train.map({'Twitter for Android':1,'Twitter for iPhone':0})\n",
    "    y_test=y_test.map({'Twitter for Android':1,'Twitter for iPhone':0})\n",
    "    X_train=train['text']\n",
    "    X_test=test['text']\n",
    "    return X_train,X_test,y_train,y_test\n",
    "def get_tidf(X_train,X_test):\n",
    "    tfidf=text.TfidfVectorizer(X_train.tolist())\n",
    "    X_train_tfidf=tfidf.fit_transform(X_train.tolist())\n",
    "    X_test_tfidf=tfidf.transform(X_test.tolist())\n",
    "    return X_train_tfidf,X_test_tfidf,tfidf\n",
    "def model(X_train,y_train):\n",
    "    clf=linear_model.LogisticRegression()\n",
    "    clf.fit(X_train,y_train)\n",
    "    return clf\n",
    "def make_prediction(clf,tfidf,tweet):\n",
    "    p=tfidf.transform([tweet])\n",
    "    prob=clf.predict_proba(p)[:,1].item()\n",
    "    if prob>0.75:\n",
    "        print(\"Tweet is by trump\")\n",
    "    else:\n",
    "        print(\"Tweet is not by trump\")"
   ]
  },
  {
   "cell_type": "markdown",
   "metadata": {},
   "source": [
    "## Get data"
   ]
  },
  {
   "cell_type": "code",
   "execution_count": 3,
   "metadata": {},
   "outputs": [
    {
     "data": {
      "text/html": [
       "<div>\n",
       "<style scoped>\n",
       "    .dataframe tbody tr th:only-of-type {\n",
       "        vertical-align: middle;\n",
       "    }\n",
       "\n",
       "    .dataframe tbody tr th {\n",
       "        vertical-align: top;\n",
       "    }\n",
       "\n",
       "    .dataframe thead th {\n",
       "        text-align: right;\n",
       "    }\n",
       "</style>\n",
       "<table border=\"1\" class=\"dataframe\">\n",
       "  <thead>\n",
       "    <tr style=\"text-align: right;\">\n",
       "      <th></th>\n",
       "      <th>created_at</th>\n",
       "      <th>favorite_count</th>\n",
       "      <th>id_str</th>\n",
       "      <th>in_reply_to_user_id_str</th>\n",
       "      <th>is_retweet</th>\n",
       "      <th>retweet_count</th>\n",
       "      <th>source</th>\n",
       "      <th>text</th>\n",
       "    </tr>\n",
       "  </thead>\n",
       "  <tbody>\n",
       "    <tr>\n",
       "      <th>0</th>\n",
       "      <td>2015-12-31 23:21:49</td>\n",
       "      <td>16495</td>\n",
       "      <td>682703233492619264</td>\n",
       "      <td>NaN</td>\n",
       "      <td>False</td>\n",
       "      <td>6776</td>\n",
       "      <td>Twitter for Android</td>\n",
       "      <td>I would like to wish everyone A HAPPY AND HEAL...</td>\n",
       "    </tr>\n",
       "    <tr>\n",
       "      <th>1</th>\n",
       "      <td>2015-12-31 23:11:35</td>\n",
       "      <td>6824</td>\n",
       "      <td>682700657304989696</td>\n",
       "      <td>NaN</td>\n",
       "      <td>False</td>\n",
       "      <td>2755</td>\n",
       "      <td>Twitter for Android</td>\n",
       "      <td>Do you believe that The State Department, on N...</td>\n",
       "    </tr>\n",
       "    <tr>\n",
       "      <th>2</th>\n",
       "      <td>2015-12-31 18:51:12</td>\n",
       "      <td>6047</td>\n",
       "      <td>682635132038176768</td>\n",
       "      <td>NaN</td>\n",
       "      <td>False</td>\n",
       "      <td>2468</td>\n",
       "      <td>Twitter for iPhone</td>\n",
       "      <td>THANK YOU ILLINOIS! Let's not forget to get fa...</td>\n",
       "    </tr>\n",
       "    <tr>\n",
       "      <th>3</th>\n",
       "      <td>2015-12-31 16:52:38</td>\n",
       "      <td>8416</td>\n",
       "      <td>682605293856002048</td>\n",
       "      <td>NaN</td>\n",
       "      <td>False</td>\n",
       "      <td>2080</td>\n",
       "      <td>Twitter for iPhone</td>\n",
       "      <td>HAPPY BIRTHDAY to my son, @DonaldJTrumpJr! Ver...</td>\n",
       "    </tr>\n",
       "    <tr>\n",
       "      <th>4</th>\n",
       "      <td>2015-12-31 15:07:18</td>\n",
       "      <td>5780</td>\n",
       "      <td>682578783912759296</td>\n",
       "      <td>NaN</td>\n",
       "      <td>False</td>\n",
       "      <td>1875</td>\n",
       "      <td>Twitter for Android</td>\n",
       "      <td>I would feel sorry for @JebBush and how badly ...</td>\n",
       "    </tr>\n",
       "  </tbody>\n",
       "</table>\n",
       "</div>"
      ],
      "text/plain": [
       "            created_at  favorite_count              id_str  \\\n",
       "0  2015-12-31 23:21:49           16495  682703233492619264   \n",
       "1  2015-12-31 23:11:35            6824  682700657304989696   \n",
       "2  2015-12-31 18:51:12            6047  682635132038176768   \n",
       "3  2015-12-31 16:52:38            8416  682605293856002048   \n",
       "4  2015-12-31 15:07:18            5780  682578783912759296   \n",
       "\n",
       "   in_reply_to_user_id_str  is_retweet  retweet_count               source  \\\n",
       "0                      NaN       False           6776  Twitter for Android   \n",
       "1                      NaN       False           2755  Twitter for Android   \n",
       "2                      NaN       False           2468   Twitter for iPhone   \n",
       "3                      NaN       False           2080   Twitter for iPhone   \n",
       "4                      NaN       False           1875  Twitter for Android   \n",
       "\n",
       "                                                text  \n",
       "0  I would like to wish everyone A HAPPY AND HEAL...  \n",
       "1  Do you believe that The State Department, on N...  \n",
       "2  THANK YOU ILLINOIS! Let's not forget to get fa...  \n",
       "3  HAPPY BIRTHDAY to my son, @DonaldJTrumpJr! Ver...  \n",
       "4  I would feel sorry for @JebBush and how badly ...  "
      ]
     },
     "execution_count": 3,
     "metadata": {},
     "output_type": "execute_result"
    }
   ],
   "source": [
    "data=pd.read_csv(\"https://s3.us-east-2.amazonaws.com/datafaculty/trump_tweets.csv\")\n",
    "data.head()"
   ]
  },
  {
   "cell_type": "markdown",
   "metadata": {},
   "source": [
    "#### Clean the data"
   ]
  },
  {
   "cell_type": "code",
   "execution_count": 4,
   "metadata": {},
   "outputs": [],
   "source": [
    "data=clean_data(data)"
   ]
  },
  {
   "cell_type": "markdown",
   "metadata": {},
   "source": [
    "#### Get train and test based on 2016 presidential elections"
   ]
  },
  {
   "cell_type": "code",
   "execution_count": 5,
   "metadata": {},
   "outputs": [],
   "source": [
    "X_train,X_test,y_train,y_test=train_test(data)"
   ]
  },
  {
   "cell_type": "markdown",
   "metadata": {},
   "source": [
    "#### Represent data as tfidf matrix"
   ]
  },
  {
   "cell_type": "code",
   "execution_count": 6,
   "metadata": {},
   "outputs": [],
   "source": [
    "X_train_tfidf,X_test_tfidf,tfidf=get_tidf(X_train,X_test)"
   ]
  },
  {
   "cell_type": "markdown",
   "metadata": {},
   "source": [
    "#### Build a classifier"
   ]
  },
  {
   "cell_type": "code",
   "execution_count": 8,
   "metadata": {},
   "outputs": [],
   "source": [
    "mod=model(X_train_tfidf,y_train)"
   ]
  },
  {
   "cell_type": "code",
   "execution_count": 9,
   "metadata": {},
   "outputs": [],
   "source": [
    "tweet='''Heading back home after an amazing inclusive conference about my favorite \n",
    "programming language R #rstudioconf . #rladies  you all rock. Plus, my first PR \n",
    "for dplyr #tidyversedevday #tidyverse. 😄'''"
   ]
  },
  {
   "cell_type": "code",
   "execution_count": 10,
   "metadata": {},
   "outputs": [
    {
     "name": "stdout",
     "output_type": "stream",
     "text": [
      "Tweet is not by trump\n"
     ]
    }
   ],
   "source": [
    "make_prediction(mod,tfidf,tweet)"
   ]
  },
  {
   "cell_type": "code",
   "execution_count": 11,
   "metadata": {},
   "outputs": [],
   "source": [
    "tweet_t='''Without a Wall our Country can never have Border or National Security. \n",
    "With a powerful Wall or Steel Barrier, Crime Rates (and Drugs) will go substantially \n",
    "down all over the U.S. The Dems know this but want to play political games. \n",
    "Must finally be done correctly. No Cave!'''"
   ]
  },
  {
   "cell_type": "code",
   "execution_count": 12,
   "metadata": {},
   "outputs": [
    {
     "name": "stdout",
     "output_type": "stream",
     "text": [
      "Tweet is by trump\n"
     ]
    }
   ],
   "source": [
    "make_prediction(mod,tfidf,tweet_t)"
   ]
  },
  {
   "cell_type": "code",
   "execution_count": null,
   "metadata": {},
   "outputs": [],
   "source": []
  }
 ],
 "metadata": {
  "kernelspec": {
   "display_name": "Python 3",
   "language": "python",
   "name": "python3"
  },
  "language_info": {
   "codemirror_mode": {
    "name": "ipython",
    "version": 3
   },
   "file_extension": ".py",
   "mimetype": "text/x-python",
   "name": "python",
   "nbconvert_exporter": "python",
   "pygments_lexer": "ipython3",
   "version": "3.6.6"
  }
 },
 "nbformat": 4,
 "nbformat_minor": 2
}
