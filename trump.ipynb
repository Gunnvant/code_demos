{
 "cells": [
  {
   "cell_type": "markdown",
   "metadata": {},
   "source": [
    "<img src=\"trump.png\">"
   ]
  },
  {
   "cell_type": "code",
   "execution_count": null,
   "metadata": {},
   "outputs": [],
   "source": [
    "import pandas as pd\n",
    "import sklearn.feature_extraction.text as text\n",
    "import sklearn.linear_model as linear_model"
   ]
  },
  {
   "cell_type": "code",
   "execution_count": null,
   "metadata": {},
   "outputs": [],
   "source": [
    "## Helper functions\n",
    "def clean_data(data):\n",
    "    data['created_at']=pd.to_datetime(data['created_at'])\n",
    "    data_sub=data.query(\"source=='Twitter for Android' or source=='Twitter for iPhone'\")\n",
    "    return data_sub\n",
    "def train_test(data):\n",
    "    test=data.query(\"created_at>'2016-11-08'\")\n",
    "    train=data.query(\"created_at<='2016-11-08'\")\n",
    "    y_train=train['source']\n",
    "    y_test=test['source']\n",
    "    y_train=y_train.map({'Twitter for Android':1,'Twitter for iPhone':0})\n",
    "    y_test=y_test.map({'Twitter for Android':1,'Twitter for iPhone':0})\n",
    "    X_train=train['text']\n",
    "    X_test=test['text']\n",
    "    return X_train,X_test,y_train,y_test\n",
    "def get_tidf(X_train,X_test):\n",
    "    tfidf=text.TfidfVectorizer(X_train.tolist())\n",
    "    X_train_tfidf=tfidf.fit_transform(X_train.tolist())\n",
    "    X_test_tfidf=tfidf.transform(X_test.tolist())\n",
    "    return X_train_tfidf,X_test_tfidf,tfidf\n",
    "def model(X_train,y_train):\n",
    "    clf=linear_model.LogisticRegression()\n",
    "    clf.fit(X_train,y_train)\n",
    "    return clf\n",
    "def make_prediction(clf,tfidf,tweet):\n",
    "    p=tfidf.transform([tweet])\n",
    "    prob=clf.predict_proba(p)[:,1].item()\n",
    "    if prob>0.75:\n",
    "        print(\"Tweet is by trump\")\n",
    "    else:\n",
    "        print(\"Tweet is not by trump\")"
   ]
  },
  {
   "cell_type": "markdown",
   "metadata": {},
   "source": [
    "## Get data"
   ]
  },
  {
   "cell_type": "code",
   "execution_count": null,
   "metadata": {},
   "outputs": [],
   "source": [
    "data=pd.read_csv(\"https://s3.us-east-2.amazonaws.com/datafaculty/trump_tweets.csv\")\n",
    "data.head()"
   ]
  },
  {
   "cell_type": "markdown",
   "metadata": {},
   "source": [
    "#### Clean the data"
   ]
  },
  {
   "cell_type": "code",
   "execution_count": null,
   "metadata": {},
   "outputs": [],
   "source": [
    "data=clean_data(data)"
   ]
  },
  {
   "cell_type": "markdown",
   "metadata": {},
   "source": [
    "#### Get train and test based on 2016 presidential elections"
   ]
  },
  {
   "cell_type": "code",
   "execution_count": null,
   "metadata": {},
   "outputs": [],
   "source": [
    "X_train,X_test,y_train,y_test=train_test(data)"
   ]
  },
  {
   "cell_type": "markdown",
   "metadata": {},
   "source": [
    "#### Represent data as tfidf matrix"
   ]
  },
  {
   "cell_type": "code",
   "execution_count": null,
   "metadata": {},
   "outputs": [],
   "source": [
    "X_train_tfidf,X_test_tfidf,tfidf=get_tidf(X_train,X_test)"
   ]
  },
  {
   "cell_type": "markdown",
   "metadata": {},
   "source": [
    "#### Build a classifier"
   ]
  },
  {
   "cell_type": "code",
   "execution_count": null,
   "metadata": {},
   "outputs": [],
   "source": [
    "mod=model(X_train_tfidf,y_train)"
   ]
  },
  {
   "cell_type": "code",
   "execution_count": null,
   "metadata": {},
   "outputs": [],
   "source": [
    "tweet='''Heading back home after an amazing inclusive conference about my favorite \n",
    "programming language R #rstudioconf . #rladies  you all rock. Plus, my first PR \n",
    "for dplyr #tidyversedevday #tidyverse. 😄'''"
   ]
  },
  {
   "cell_type": "code",
   "execution_count": null,
   "metadata": {},
   "outputs": [],
   "source": [
    "make_prediction(mod,tfidf,tweet)"
   ]
  },
  {
   "cell_type": "code",
   "execution_count": null,
   "metadata": {},
   "outputs": [],
   "source": [
    "tweet_t='''Without a Wall our Country can never have Border or National Security. \n",
    "With a powerful Wall or Steel Barrier, Crime Rates (and Drugs) will go substantially \n",
    "down all over the U.S. The Dems know this but want to play political games. \n",
    "Must finally be done correctly. No Cave!'''"
   ]
  },
  {
   "cell_type": "code",
   "execution_count": null,
   "metadata": {},
   "outputs": [],
   "source": [
    "make_prediction(mod,tfidf,tweet_t)"
   ]
  },
  {
   "cell_type": "code",
   "execution_count": null,
   "metadata": {},
   "outputs": [],
   "source": []
  }
 ],
 "metadata": {
  "kernelspec": {
   "display_name": "Python 3",
   "language": "python",
   "name": "python3"
  },
  "language_info": {
   "codemirror_mode": {
    "name": "ipython",
    "version": 3
   },
   "file_extension": ".py",
   "mimetype": "text/x-python",
   "name": "python",
   "nbconvert_exporter": "python",
   "pygments_lexer": "ipython3",
   "version": "3.6.6"
  }
 },
 "nbformat": 4,
 "nbformat_minor": 2
}
