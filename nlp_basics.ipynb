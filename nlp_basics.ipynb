{
 "cells": [
  {
   "cell_type": "code",
   "execution_count": null,
   "metadata": {},
   "outputs": [],
   "source": [
    "! python -m spacy download en"
   ]
  },
  {
   "cell_type": "code",
   "execution_count": 1,
   "metadata": {},
   "outputs": [
    {
     "name": "stderr",
     "output_type": "stream",
     "text": [
      "/anaconda3/lib/python3.6/importlib/_bootstrap.py:219: RuntimeWarning: numpy.dtype size changed, may indicate binary incompatibility. Expected 96, got 88\n",
      "  return f(*args, **kwds)\n",
      "/anaconda3/lib/python3.6/importlib/_bootstrap.py:219: RuntimeWarning: numpy.ufunc size changed, may indicate binary incompatibility. Expected 192, got 176\n",
      "  return f(*args, **kwds)\n",
      "/anaconda3/lib/python3.6/importlib/_bootstrap.py:219: RuntimeWarning: numpy.dtype size changed, may indicate binary incompatibility. Expected 96, got 88\n",
      "  return f(*args, **kwds)\n",
      "/anaconda3/lib/python3.6/importlib/_bootstrap.py:219: RuntimeWarning: numpy.ufunc size changed, may indicate binary incompatibility. Expected 192, got 176\n",
      "  return f(*args, **kwds)\n"
     ]
    }
   ],
   "source": [
    "import spacy\n",
    "import pandas as pd"
   ]
  },
  {
   "cell_type": "code",
   "execution_count": null,
   "metadata": {},
   "outputs": [],
   "source": [
    "nlp=spacy.load('en')"
   ]
  },
  {
   "cell_type": "code",
   "execution_count": null,
   "metadata": {},
   "outputs": [],
   "source": [
    "sent1=\"I loved the camera in this mobile phone. But I hated the build quality\""
   ]
  },
  {
   "cell_type": "code",
   "execution_count": null,
   "metadata": {},
   "outputs": [],
   "source": [
    "parse=nlp(sent1)"
   ]
  },
  {
   "cell_type": "code",
   "execution_count": null,
   "metadata": {},
   "outputs": [],
   "source": [
    "for word in parse:\n",
    "    print(word.text,word.pos_)"
   ]
  },
  {
   "cell_type": "code",
   "execution_count": null,
   "metadata": {},
   "outputs": [],
   "source": [
    "from spacy import displacy"
   ]
  },
  {
   "cell_type": "code",
   "execution_count": null,
   "metadata": {},
   "outputs": [],
   "source": [
    "displacy.render(parse,style=\"dep\",jupyter=True)"
   ]
  },
  {
   "cell_type": "code",
   "execution_count": null,
   "metadata": {},
   "outputs": [],
   "source": [
    "sent2='''The beach has amazing views. Food is great. Drinks are even better and \n",
    "locals are friendly'''"
   ]
  },
  {
   "cell_type": "code",
   "execution_count": null,
   "metadata": {},
   "outputs": [],
   "source": [
    "doc=nlp(sent2)"
   ]
  },
  {
   "cell_type": "code",
   "execution_count": null,
   "metadata": {},
   "outputs": [],
   "source": [
    "for word in doc:\n",
    "    print(word.text,word.pos_)"
   ]
  },
  {
   "cell_type": "code",
   "execution_count": null,
   "metadata": {},
   "outputs": [],
   "source": [
    "displacy.render(doc,style=\"dep\",jupyter=True)"
   ]
  },
  {
   "cell_type": "markdown",
   "metadata": {},
   "source": [
    "<img src='eureka.png'>"
   ]
  },
  {
   "cell_type": "markdown",
   "metadata": {},
   "source": [
    "<h6 align='center'> Tell me about your eureka moment !!!!</h6>"
   ]
  },
  {
   "cell_type": "markdown",
   "metadata": {},
   "source": [
    "<h1 align=\"center\">What people are talking about</h1>"
   ]
  },
  {
   "cell_type": "markdown",
   "metadata": {},
   "source": [
    "<img src=\"talking.png\">"
   ]
  },
  {
   "cell_type": "code",
   "execution_count": null,
   "metadata": {},
   "outputs": [],
   "source": [
    "### helper functions\n",
    "\"\"\"Create a list of common words to remove\"\"\"\n",
    "stop_words=[\"i\", \"me\", \"my\", \"myself\", \"we\", \"our\", \"ours\", \"ourselves\", \"you\", \"your\", \"yours\", \"yourself\", \n",
    "            \"yourselves\", \"he\", \"him\", \"his\", \"himself\", \"she\", \"her\", \"hers\", \"herself\", \"it\", \"its\", \"itself\", \n",
    "            \"they\", \"them\", \"their\", \"theirs\", \"themselves\", \"what\", \"which\", \"who\", \"whom\", \"this\", \"that\", \"these\", \n",
    "            \"those\", \"am\", \"is\", \"are\", \"was\", \"were\", \"be\", \"been\", \"being\", \"have\", \"has\", \"had\", \"having\", \"do\", \n",
    "            \"does\", \"did\", \"doing\", \"a\", \"an\", \"the\", \"and\", \"but\", \"if\", \"or\", \"because\", \"as\", \"until\", \"while\", \n",
    "            \"of\", \"at\", \"by\", \"for\", \"with\", \"about\", \"against\", \"between\", \"into\", \"through\", \"during\", \"before\", \n",
    "            \"after\", \"above\", \"below\", \"to\", \"from\", \"up\", \"down\", \"in\", \"out\", \"on\", \"off\", \"over\", \"under\", \"again\", \n",
    "            \"further\", \"then\", \"once\", \"here\", \"there\", \"when\", \"where\", \"why\", \"how\", \"all\", \"any\", \"both\", \"each\", \n",
    "            \"few\", \"more\", \"most\", \"other\", \"some\", \"such\", \"no\", \"nor\", \"not\", \"only\", \"own\", \"same\", \"so\", \"than\",\n",
    "            \"too\", \"very\", \"s\", \"t\", \"can\", \"will\", \"just\", \"don\", \"should\", \"now\"]\n",
    "\n",
    "\"\"\"Define a function to extract aspects\"\"\"\n",
    "def get_aspects(x):\n",
    "    doc=nlp(x) ## Tokenize and extract grammatical components\n",
    "    doc=[i.text for i in doc if i.text not in stop_words and i.pos_==\"NOUN\"] ## Remove common words and retain only nouns\n",
    "    doc=list(map(lambda i: i.lower(),doc)) ## Normalize text to lower case\n",
    "    doc=pd.Series(doc)\n",
    "    doc=doc.value_counts().head().index.tolist() ## Get 5 most frequent nouns\n",
    "    return doc"
   ]
  },
  {
   "cell_type": "code",
   "execution_count": null,
   "metadata": {},
   "outputs": [],
   "source": [
    "## Head over to amazon or flipkart and copy paste your own review\n",
    "review='''This is my 3rd iPhone after iPhone 4S and iPhone 6S Plus.\n",
    "Being an utter working middle class guy, I don't switch my iPhones very often (my android phones barely lasted me 9 months though). I do consider them extremely expensive, and I wouldn't go for one, unless I felt it was worth the money I was paying for it.\n",
    "\n",
    "Pros:\n",
    "\n",
    "- I got this phone for INR 69,999/- from Amazon. With exchange offer, it cost me a little over 60K. For the price (and that price only), this makes it worth the buy.\n",
    "- It may not be the latest and greatest, but compared to iPhone XR, this is a much better package overall. Considering the XR is now priced higher than X. XS is only marginally better, and didn't feel it was worth the extra 30K.\n",
    "- Even after a year of being on the market, this phone is an absolute beast in terms of performance, especially after iOS 12.\n",
    "- The Camera is a beauty. You can't compare with DSLRs, but it is right up there with OnePlus and Google phones.\n",
    "- Looks exactly like the XS, and doesn't even have the S badging. So no one will be the wiser.\n",
    "\n",
    "Cons:\n",
    "\n",
    "- The delivery was a bit of a hassle. I had opted for One Day Delivery, at my work address. The agent reached at 7:30 in the morning, when I was obviously not at work. He did say he will come later in the afternoon. However, received the phone a day later.\n",
    "- The phone is extremely slippery. Invest in a good case, front screen protector and a rear glass protector\n",
    "- Such expensive phones should come with 128GB of storage as base, instead of 64GB. If you record 4K videos, it will eat up your storage really quickly.\n",
    "- Videos get heavily cropped when watching in full screen mode. If you have the money, go for XS Max.\n",
    "- The battery isn't the best. Takes over two hours to fully charge from 5% to 100% even with the iPad charger. With moderate usage, you can get 8 hours barely.\n",
    "- With the price of the phone, should have at least come with the fast charger in the box.'''"
   ]
  },
  {
   "cell_type": "code",
   "execution_count": null,
   "metadata": {},
   "outputs": [],
   "source": [
    "print(get_aspects(review))"
   ]
  },
  {
   "cell_type": "code",
   "execution_count": 28,
   "metadata": {},
   "outputs": [],
   "source": [
    "beaches['nouns']=beaches['Review_text'].map(get_nouns)"
   ]
  },
  {
   "cell_type": "code",
   "execution_count": 29,
   "metadata": {},
   "outputs": [
    {
     "data": {
      "text/html": [
       "<div>\n",
       "<style scoped>\n",
       "    .dataframe tbody tr th:only-of-type {\n",
       "        vertical-align: middle;\n",
       "    }\n",
       "\n",
       "    .dataframe tbody tr th {\n",
       "        vertical-align: top;\n",
       "    }\n",
       "\n",
       "    .dataframe thead th {\n",
       "        text-align: right;\n",
       "    }\n",
       "</style>\n",
       "<table border=\"1\" class=\"dataframe\">\n",
       "  <thead>\n",
       "    <tr style=\"text-align: right;\">\n",
       "      <th></th>\n",
       "      <th>Attraction_name</th>\n",
       "      <th>place</th>\n",
       "      <th>Review_text</th>\n",
       "      <th>nouns</th>\n",
       "    </tr>\n",
       "  </thead>\n",
       "  <tbody>\n",
       "    <tr>\n",
       "      <th>0</th>\n",
       "      <td>Radhanagar Beach</td>\n",
       "      <td>NaN</td>\n",
       "      <td>Endless shoreline, pristine white sand, serene...</td>\n",
       "      <td>shoreline,sand,waters,sunset,sky,time,sun,day</td>\n",
       "    </tr>\n",
       "    <tr>\n",
       "      <th>1</th>\n",
       "      <td>Radhanagar Beach</td>\n",
       "      <td>NaN</td>\n",
       "      <td>Radhanagar beach is a must visit beach in Have...</td>\n",
       "      <td>beach,sand,colors,water,treat</td>\n",
       "    </tr>\n",
       "    <tr>\n",
       "      <th>2</th>\n",
       "      <td>Radhanagar Beach</td>\n",
       "      <td>NaN</td>\n",
       "      <td>I have never seen a beach like this before. To...</td>\n",
       "      <td>beach,things,rocks,plane,side,cafes,something,...</td>\n",
       "    </tr>\n",
       "    <tr>\n",
       "      <th>3</th>\n",
       "      <td>Radhanagar Beach</td>\n",
       "      <td>NaN</td>\n",
       "      <td>(1) Best beach i have ever visited in my life....</td>\n",
       "      <td>beach,water,length,sea,ocean,goggles,one.(3,sh...</td>\n",
       "    </tr>\n",
       "    <tr>\n",
       "      <th>4</th>\n",
       "      <td>Radhanagar Beach</td>\n",
       "      <td>NaN</td>\n",
       "      <td>I was speechless when I saw the beach its beau...</td>\n",
       "      <td>beach,view,water,flora,fauna,hours,scenery</td>\n",
       "    </tr>\n",
       "  </tbody>\n",
       "</table>\n",
       "</div>"
      ],
      "text/plain": [
       "    Attraction_name  place                                        Review_text  \\\n",
       "0  Radhanagar Beach    NaN  Endless shoreline, pristine white sand, serene...   \n",
       "1  Radhanagar Beach    NaN  Radhanagar beach is a must visit beach in Have...   \n",
       "2  Radhanagar Beach    NaN  I have never seen a beach like this before. To...   \n",
       "3  Radhanagar Beach    NaN  (1) Best beach i have ever visited in my life....   \n",
       "4  Radhanagar Beach    NaN  I was speechless when I saw the beach its beau...   \n",
       "\n",
       "                                               nouns  \n",
       "0      shoreline,sand,waters,sunset,sky,time,sun,day  \n",
       "1                      beach,sand,colors,water,treat  \n",
       "2  beach,things,rocks,plane,side,cafes,something,...  \n",
       "3  beach,water,length,sea,ocean,goggles,one.(3,sh...  \n",
       "4         beach,view,water,flora,fauna,hours,scenery  "
      ]
     },
     "execution_count": 29,
     "metadata": {},
     "output_type": "execute_result"
    }
   ],
   "source": [
    "beaches.head()"
   ]
  },
  {
   "cell_type": "code",
   "execution_count": 30,
   "metadata": {},
   "outputs": [],
   "source": [
    "### aspects\n",
    "aspects=['food','sports','activities','nature']"
   ]
  },
  {
   "cell_type": "code",
   "execution_count": null,
   "metadata": {},
   "outputs": [],
   "source": [
    "! wget http://nlp.stanford.edu/data/glove.6B.zip\n",
    "! unzip glove.6B.zip\n",
    "! ls"
   ]
  },
  {
   "cell_type": "code",
   "execution_count": null,
   "metadata": {},
   "outputs": [],
   "source": [
    "! python -m gensim.scripts.glove2word2vec --input  glove.840B.300d.txt --output glove.840B.300d.w2vformat.txt"
   ]
  },
  {
   "cell_type": "code",
   "execution_count": null,
   "metadata": {},
   "outputs": [],
   "source": [
    "import gensim\n",
    "from"
   ]
  }
 ],
 "metadata": {
  "kernelspec": {
   "display_name": "Python 3",
   "language": "python",
   "name": "python3"
  },
  "language_info": {
   "codemirror_mode": {
    "name": "ipython",
    "version": 3
   },
   "file_extension": ".py",
   "mimetype": "text/x-python",
   "name": "python",
   "nbconvert_exporter": "python",
   "pygments_lexer": "ipython3",
   "version": "3.6.6"
  }
 },
 "nbformat": 4,
 "nbformat_minor": 2
}
